{
  "nbformat": 4,
  "nbformat_minor": 0,
  "metadata": {
    "colab": {
      "name": "TAREA_ESTADISTICA_02.ipynb",
      "provenance": [],
      "collapsed_sections": [],
      "include_colab_link": true
    },
    "kernelspec": {
      "name": "python3",
      "display_name": "Python 3"
    }
  },
  "cells": [
    {
      "cell_type": "markdown",
      "metadata": {
        "id": "view-in-github",
        "colab_type": "text"
      },
      "source": [
        "<a href=\"https://colab.research.google.com/github/elsy-torres/sismologia/blob/main/TAREA_ESTADISTICA_02.ipynb\" target=\"_parent\"><img src=\"https://colab.research.google.com/assets/colab-badge.svg\" alt=\"Open In Colab\"/></a>"
      ]
    },
    {
      "cell_type": "markdown",
      "metadata": {
        "id": "FSJ1eWZ1RGZR"
      },
      "source": [
        "## Catalogo IRIS"
      ]
    },
    {
      "cell_type": "code",
      "metadata": {
        "id": "OWzxsbK8SY8a"
      },
      "source": [
        "import matplotlib.pyplot as plt\n",
        "import pandas as pd\n",
        "import numpy as np\n",
        "import matplotlib.patches as patches\n",
        "import matplotlib.path as path\n",
        "import matplotlib as mpl\n"
      ],
      "execution_count": null,
      "outputs": []
    },
    {
      "cell_type": "code",
      "metadata": {
        "colab": {
          "base_uri": "https://localhost:8080/"
        },
        "id": "MfsVjsMzTEgD",
        "outputId": "2ac9eb2d-a898-4c53-d140-dc599758b205"
      },
      "source": [
        "data=pd.read_csv('data-02_IRIS.csv',names=['depth','Mag','date','N','X','NE'],skiprows=18,sep=',',engine='python')\n",
        "print(data)"
      ],
      "execution_count": null,
      "outputs": [
        {
          "output_type": "stream",
          "text": [
            "     depth   Mag        date   N     X  NE\n",
            "0     10.0  3.35  04/04/2010   0  17.0   1\n",
            "1     10.0  3.36  04/04/2010   0  18.0   5\n",
            "2     10.0  3.13  04/04/2010   0  19.0   5\n",
            "3     10.0  3.26  04/04/2010   0  20.0   2\n",
            "4     10.0  3.08  05/04/2010   1  21.0   6\n",
            "..     ...   ...         ...  ..   ...  ..\n",
            "556    9.9  3.35  06/07/2010  93   NaN  21\n",
            "557   13.4  3.02  07/07/2010  94   NaN  21\n",
            "558    9.3  3.28  08/07/2010  95   NaN  21\n",
            "559    5.5  3.02  09/07/2010  96   NaN  21\n",
            "560    6.3  3.03  12/07/2010  99   NaN  21\n",
            "\n",
            "[561 rows x 6 columns]\n"
          ],
          "name": "stdout"
        }
      ]
    },
    {
      "cell_type": "code",
      "metadata": {
        "colab": {
          "base_uri": "https://localhost:8080/"
        },
        "id": "ZLS8xkfvIezl",
        "outputId": "4b6bf39d-e56a-49af-9ead-f939c3b6ea90"
      },
      "source": [
        "n_ev=len(data)\n",
        "print(n_ev)"
      ],
      "execution_count": null,
      "outputs": [
        {
          "output_type": "stream",
          "text": [
            "561\n"
          ],
          "name": "stdout"
        }
      ]
    },
    {
      "cell_type": "code",
      "metadata": {
        "colab": {
          "base_uri": "https://localhost:8080/"
        },
        "id": "mcJ-BjLxCJXl",
        "outputId": "20ac2a99-7d08-413d-cebb-b036c4e90db4"
      },
      "source": [
        "rango=np.arange(1,6,0.25)\n",
        "print(rango)"
      ],
      "execution_count": null,
      "outputs": [
        {
          "output_type": "stream",
          "text": [
            "[1.   1.25 1.5  1.75 2.   2.25 2.5  2.75 3.   3.25 3.5  3.75 4.   4.25\n",
            " 4.5  4.75 5.   5.25 5.5  5.75]\n"
          ],
          "name": "stdout"
        }
      ]
    },
    {
      "cell_type": "code",
      "metadata": {
        "colab": {
          "base_uri": "https://localhost:8080/",
          "height": 309
        },
        "id": "WDGdfjoRB5OO",
        "outputId": "dcea29c8-583b-466e-ba7c-fd49411df5e6"
      },
      "source": [
        "fig = plt.figure(figsize=(10,5))\n",
        "fig, ax = plt.subplots()\n",
        "\n",
        "plt.style.use('bmh')\n",
        "\n",
        "n=plt.hist(data['Mag'], bins=rango,facecolor='b', edgecolor='magenta')\n",
        "plt.xticks(rango,fontsize=7)\n",
        "ax.set_xlabel('Tiempo transcurrido desde el evento principal (días)')\n",
        "\n",
        "ax.set_ylabel('Número de sismos por días')\n",
        "ax.set_title(r'Histograma de ocurrencia')\n",
        "\n",
        "_=plt.show()"
      ],
      "execution_count": null,
      "outputs": [
        {
          "output_type": "display_data",
          "data": {
            "text/plain": [
              "<Figure size 720x360 with 0 Axes>"
            ]
          },
          "metadata": {
            "tags": []
          }
        },
        {
          "output_type": "display_data",
          "data": {
            "image/png": "[encoded data removed]",
            "text/plain": [
              "<Figure size 432x288 with 1 Axes>"
            ]
          },
          "metadata": {
            "tags": [],
            "needs_background": "light"
          }
        }
      ]
    },
    {
      "cell_type": "code",
      "metadata": {
        "colab": {
          "base_uri": "https://localhost:8080/"
        },
        "id": "kWplOeO1POgu",
        "outputId": "3dacd085-8603-4c8b-fad8-7fcf64fda13e"
      },
      "source": [
        "x=np.arange(2,10)\n",
        "print(len(x))"
      ],
      "execution_count": null,
      "outputs": [
        {
          "output_type": "stream",
          "text": [
            "8\n"
          ],
          "name": "stdout"
        }
      ]
    },
    {
      "cell_type": "code",
      "metadata": {
        "colab": {
          "base_uri": "https://localhost:8080/"
        },
        "id": "f-gRjnNUWzkw",
        "outputId": "9eb3879a-1c80-44c9-8866-d0742bcdbe5b"
      },
      "source": [
        "print(n[0])"
      ],
      "execution_count": null,
      "outputs": [
        {
          "output_type": "stream",
          "text": [
            "[  0.   0.   0.   0.   0.   0.   0.   0. 190.  63.  69.  34.  38.  11.\n",
            "   9.   2.   1.   1.   0.]\n"
          ],
          "name": "stdout"
        }
      ]
    },
    {
      "cell_type": "code",
      "metadata": {
        "colab": {
          "base_uri": "https://localhost:8080/"
        },
        "id": "_cdZGm9hLJbf",
        "outputId": "8bd65c24-8d08-48d0-a58c-5d033e2609c2"
      },
      "source": [
        "print(rango[9:18])"
      ],
      "execution_count": null,
      "outputs": [
        {
          "output_type": "stream",
          "text": [
            "[3.25 3.5  3.75 4.   4.25 4.5  4.75 5.   5.25]\n"
          ],
          "name": "stdout"
        }
      ]
    },
    {
      "cell_type": "code",
      "metadata": {
        "colab": {
          "base_uri": "https://localhost:8080/"
        },
        "id": "_x_86ExEQ8Ar",
        "outputId": "10a9f28f-e021-45b3-e084-d3fa956b6101"
      },
      "source": [
        "y=np.log(n[0][9:18]/561)\n",
        "print(y)"
      ],
      "execution_count": null,
      "outputs": [
        {
          "output_type": "stream",
          "text": [
            "[-2.18658618 -2.0956144  -2.80336038 -2.69213475 -3.93182563 -4.13249633\n",
            " -5.63657372 -6.32972091 -6.32972091]\n"
          ],
          "name": "stdout"
        }
      ]
    },
    {
      "cell_type": "code",
      "metadata": {
        "colab": {
          "base_uri": "https://localhost:8080/"
        },
        "id": "23HXmM5_Tfc0",
        "outputId": "2c8c69ae-8e21-4621-d3ed-1eba4d962cce"
      },
      "source": [
        "m_0,b_0 = np.polyfit(rango[9:18],y,deg = 1)\n",
        "print(\"m:{}\\t b:{}\".format(m,b_0))"
      ],
      "execution_count": null,
      "outputs": [
        {
          "output_type": "stream",
          "text": [
            "m:-1.7287952920643472\t b:6.292796206162888\n"
          ],
          "name": "stdout"
        }
      ]
    },
    {
      "cell_type": "code",
      "metadata": {
        "id": "nXJfuln7ToTY"
      },
      "source": [
        "y_r = m_0*rango[9:18] +b_0"
      ],
      "execution_count": null,
      "outputs": []
    },
    {
      "cell_type": "code",
      "metadata": {
        "colab": {
          "base_uri": "https://localhost:8080/",
          "height": 351
        },
        "id": "qOQfBDirIP7p",
        "outputId": "937645d8-1f3e-4476-dd49-f058e3c3c8b8"
      },
      "source": [
        "fig = plt.figure(figsize=(8,5))\n",
        "\n",
        "plt.plot(rango[9:18],y,'bo')\n",
        "plt.plot(rango[0:8],n[0][0:8],'bo')\n",
        "plt.plot(rango[9:18],y_r)\n",
        "\n",
        "plt.ylabel('Número de sismos')\n",
        "plt.xlabel('Tiempo transcurrido desde el evento principal (días)')\n",
        "plt.title('Réplicas')\n",
        "\n",
        "plt.rc('grid', linestyle=\"-\", color='gray')\n",
        "plt.grid(True)\n",
        "_=plt.show()"
      ],
      "execution_count": null,
      "outputs": [
        {
          "output_type": "display_data",
          "data": {
            "image/png": "[encoded data removed]",
            "text/plain": [
              "<Figure size 576x360 with 1 Axes>"
            ]
          },
          "metadata": {
            "tags": [],
            "needs_background": "light"
          }
        }
      ]
    },
    {
      "cell_type": "markdown",
      "metadata": {
        "id": "n-bJ_xMCRLa7"
      },
      "source": [
        "## Catalogo RESNOM"
      ]
    },
    {
      "cell_type": "code",
      "metadata": {
        "colab": {
          "base_uri": "https://localhost:8080/"
        },
        "id": "9zxt8p54RQ_q",
        "outputId": "dc3f85e4-a5d5-4a6a-c5a5-48ceadfbefe5"
      },
      "source": [
        "data_1=pd.read_csv('data-02.csv',names=['depth','Mag','date','N','X','NE'],skiprows=18,sep=',',engine='python')\n",
        "print(data)"
      ],
      "execution_count": null,
      "outputs": [
        {
          "output_type": "stream",
          "text": [
            "     depth   Mag        date   N     X  NE\n",
            "0     10.0  3.35  04/04/2010   0  17.0   1\n",
            "1     10.0  3.36  04/04/2010   0  18.0   5\n",
            "2     10.0  3.13  04/04/2010   0  19.0   5\n",
            "3     10.0  3.26  04/04/2010   0  20.0   2\n",
            "4     10.0  3.08  05/04/2010   1  21.0   6\n",
            "..     ...   ...         ...  ..   ...  ..\n",
            "556    9.9  3.35  06/07/2010  93   NaN  21\n",
            "557   13.4  3.02  07/07/2010  94   NaN  21\n",
            "558    9.3  3.28  08/07/2010  95   NaN  21\n",
            "559    5.5  3.02  09/07/2010  96   NaN  21\n",
            "560    6.3  3.03  12/07/2010  99   NaN  21\n",
            "\n",
            "[561 rows x 6 columns]\n"
          ],
          "name": "stdout"
        }
      ]
    },
    {
      "cell_type": "code",
      "metadata": {
        "colab": {
          "base_uri": "https://localhost:8080/"
        },
        "id": "5VFZenH6Srrb",
        "outputId": "fc43656e-aeb0-4527-86c0-f0c0395e0c87"
      },
      "source": [
        "n_ev1=len(data_1)\n",
        "print(n_ev1)"
      ],
      "execution_count": null,
      "outputs": [
        {
          "output_type": "stream",
          "text": [
            "418\n"
          ],
          "name": "stdout"
        }
      ]
    },
    {
      "cell_type": "code",
      "metadata": {
        "colab": {
          "base_uri": "https://localhost:8080/",
          "height": 308
        },
        "id": "PZ5Dzm3lSz7B",
        "outputId": "73f7d15d-fd20-4a36-f957-384d5468021c"
      },
      "source": [
        "fig = plt.figure(figsize=(10,5))\n",
        "fig, ax = plt.subplots()\n",
        "\n",
        "plt.style.use('bmh')\n",
        "\n",
        "m=plt.hist(data_1['Mag'], bins=rango,facecolor='b', edgecolor='magenta')\n",
        "plt.xticks(rango,fontsize=6)\n",
        "ax.set_xlabel('Tiempo transcurrido desde el evento principal (días)')\n",
        "\n",
        "ax.set_ylabel('Número de sismos por días')\n",
        "ax.set_title(r'Histograma de ocurrencia')\n",
        "\n",
        "_=plt.show()"
      ],
      "execution_count": null,
      "outputs": [
        {
          "output_type": "display_data",
          "data": {
            "text/plain": [
              "<Figure size 720x360 with 0 Axes>"
            ]
          },
          "metadata": {
            "tags": []
          }
        },
        {
          "output_type": "display_data",
          "data": {
            "image/png": "[encoded data removed]",
            "text/plain": [
              "<Figure size 432x288 with 1 Axes>"
            ]
          },
          "metadata": {
            "tags": [],
            "needs_background": "light"
          }
        }
      ]
    },
    {
      "cell_type": "code",
      "metadata": {
        "colab": {
          "base_uri": "https://localhost:8080/"
        },
        "id": "ofmY4jhUX2cb",
        "outputId": "34b2ab02-11bd-4b5f-d639-c489e35059b9"
      },
      "source": [
        "print(m[0])"
      ],
      "execution_count": null,
      "outputs": [
        {
          "output_type": "stream",
          "text": [
            "[  0.   0.   0.   0.   0.   0.   0.   0. 190.  63.  69.  34.  38.  11.\n",
            "   9.   2.   1.   1.   0.]\n"
          ],
          "name": "stdout"
        }
      ]
    },
    {
      "cell_type": "code",
      "metadata": {
        "colab": {
          "base_uri": "https://localhost:8080/"
        },
        "id": "DPfSibluYDde",
        "outputId": "c1b4ae29-2e8c-4aff-89fe-8193dd2c785d"
      },
      "source": [
        "y_1=np.log(n[0][9:18]/561)\n",
        "print(y_1)"
      ],
      "execution_count": null,
      "outputs": [
        {
          "output_type": "stream",
          "text": [
            "[-2.18658618 -2.0956144  -2.80336038 -2.69213475 -3.93182563 -4.13249633\n",
            " -5.63657372 -6.32972091 -6.32972091]\n"
          ],
          "name": "stdout"
        }
      ]
    },
    {
      "cell_type": "code",
      "metadata": {
        "colab": {
          "base_uri": "https://localhost:8080/"
        },
        "id": "IcvlJaiXYMlL",
        "outputId": "d1ab87a0-4b0e-456f-9f5d-549189f1707d"
      },
      "source": [
        "m_1,b_1 = np.polyfit(rango[9:18],y_1,deg = 1)\n",
        "print(\"m:{}\\t b:{}\".format(m_1,b_1))"
      ],
      "execution_count": null,
      "outputs": [
        {
          "output_type": "stream",
          "text": [
            "m:-2.4254431126573683\t b:6.292796206162888\n"
          ],
          "name": "stdout"
        }
      ]
    },
    {
      "cell_type": "code",
      "metadata": {
        "id": "rSZ-pMQAYXKa"
      },
      "source": [
        "y_r0 = m_0*rango[9:18] +b_0"
      ],
      "execution_count": null,
      "outputs": []
    },
    {
      "cell_type": "code",
      "metadata": {
        "colab": {
          "base_uri": "https://localhost:8080/",
          "height": 351
        },
        "id": "KW-OQQiuY_NH",
        "outputId": "2f377712-250c-4c55-f581-87d5e20bb513"
      },
      "source": [
        "fig = plt.figure(figsize=(8,5))\n",
        "\n",
        "plt.plot(rango[9:18],y_1,'bo')\n",
        "plt.plot(rango[0:8],m[0][0:8],'bo')\n",
        "plt.plot(rango[9:18],y_r0)\n",
        "\n",
        "plt.ylabel('Número de sismos')\n",
        "plt.xlabel('Tiempo transcurrido desde el evento principal (días)')\n",
        "plt.title('Réplicas')\n",
        "\n",
        "plt.rc('grid', linestyle=\"-\", color='gray')\n",
        "plt.grid(True)\n",
        "_=plt.show()"
      ],
      "execution_count": null,
      "outputs": [
        {
          "output_type": "display_data",
          "data": {
            "image/png": "[encoded data removed]",
            "text/plain": [
              "<Figure size 576x360 with 1 Axes>"
            ]
          },
          "metadata": {
            "tags": [],
            "needs_background": "light"
          }
        }
      ]
    }
  ]
}