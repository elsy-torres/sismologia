{
  "nbformat": 4,
  "nbformat_minor": 0,
  "metadata": {
    "colab": {
      "name": "Untitled6.ipynb",
      "provenance": [],
      "authorship_tag": "ABX9TyNUhsgrCc5j1h9uO4DVrkFT",
      "include_colab_link": true
    },
    "kernelspec": {
      "name": "python3",
      "display_name": "Python 3"
    }
  },
  "cells": [
    {
      "cell_type": "markdown",
      "metadata": {
        "id": "view-in-github",
        "colab_type": "text"
      },
      "source": [
        "<a href=\"https://colab.research.google.com/github/elsy-torres/sismologia/blob/main/sismo-02.ipynb\" target=\"_parent\"><img src=\"https://colab.research.google.com/assets/colab-badge.svg\" alt=\"Open In Colab\"/></a>"
      ]
    },
    {
      "cell_type": "code",
      "metadata": {
        "id": "H54ocbfVDAgA"
      },
      "source": [
        "import matplotlib.pyplot as plt\n",
        "import pandas as pd\n",
        "import numpy as np\n",
        "import matplotlib.patches as patches\n",
        "import matplotlib.path as path\n",
        "import matplotlib as mpl"
      ],
      "execution_count": 25,
      "outputs": []
    },
    {
      "cell_type": "code",
      "metadata": {
        "colab": {
          "base_uri": "https://localhost:8080/"
        },
        "id": "47ek-7CfDG_w",
        "outputId": "78a6c63d-3a3e-4b51-ecf9-726da8cbb3f0"
      },
      "source": [
        "data=pd.read_csv('data.csv',names=['date','lat','lon','depth','Ml','MC','MW','N'],skiprows=2,sep=',',engine='python')\n",
        "print(data)"
      ],
      "execution_count": 26,
      "outputs": [
        {
          "output_type": "stream",
          "text": [
            "           date     lat      lon  depth   Ml   MC   MW    N\n",
            "0    04/04/2010  32.155 -115.256   10.0  5.5  0.0  5.5    0\n",
            "1    04/04/2010  32.260 -115.349    6.0  0.0  2.2  2.2    0\n",
            "2    04/04/2010  32.210 -115.424    7.0  0.0  2.2  2.2    0\n",
            "3    04/04/2010  32.165 -115.283    8.0  0.0  1.9  1.9    0\n",
            "4    04/04/2010  32.269 -115.327    6.0  4.7  0.0  4.7    0\n",
            "..          ...     ...      ...    ...  ...  ...  ...  ...\n",
            "928  13/07/2010  32.265 -115.333    5.0  2.2  2.0  2.2  100\n",
            "929  13/07/2010  32.176 -115.238    8.0  2.6  2.4  2.6  100\n",
            "930  13/07/2010  32.333 -115.342    6.0  2.7  2.5  2.7  100\n",
            "931  13/07/2010  32.124 -115.203    8.0  2.5  2.3  2.5  100\n",
            "932  13/07/2010  32.390 -115.496    5.0  2.2  2.0  2.2  100\n",
            "\n",
            "[933 rows x 8 columns]\n"
          ],
          "name": "stdout"
        }
      ]
    },
    {
      "cell_type": "code",
      "metadata": {
        "colab": {
          "base_uri": "https://localhost:8080/"
        },
        "id": "UtzdoKthEWg9",
        "outputId": "fda7b1f6-d442-4dfc-8b20-1d7faf26ea65"
      },
      "source": [
        "d=len(data)\n",
        "print(d)"
      ],
      "execution_count": 27,
      "outputs": [
        {
          "output_type": "stream",
          "text": [
            "933\n"
          ],
          "name": "stdout"
        }
      ]
    },
    {
      "cell_type": "code",
      "metadata": {
        "colab": {
          "base_uri": "https://localhost:8080/",
          "height": 296
        },
        "id": "hejYwWFUEpAa",
        "outputId": "3b8656c9-be84-4ed7-bfa2-14a264a56473"
      },
      "source": [
        "fig, ax = plt.subplots()\n",
        "\n",
        "\n",
        "plt.style.use('bmh')\n",
        "n=plt.hist(data['N'],100,facecolor='y', edgecolor='magenta')\n",
        "\n",
        "ax.set_xlabel('Tiempo transcurrido desde el evento principal (días)')\n",
        "ax.set_ylabel('Número de sismos por  (N)')\n",
        "ax.set_title(r'Histograma de ocurrencia')\n",
        "\n",
        "_=plt.show()"
      ],
      "execution_count": 42,
      "outputs": [
        {
          "output_type": "display_data",
          "data": {
            "image/png": "[encoded data removed]",
            "text/plain": [
              "<Figure size 432x288 with 1 Axes>"
            ]
          },
          "metadata": {
            "tags": [],
            "needs_background": "light"
          }
        }
      ]
    },
    {
      "cell_type": "code",
      "metadata": {
        "id": "zRfHN4f_In44",
        "colab": {
          "base_uri": "https://localhost:8080/"
        },
        "outputId": "7b854fe2-885e-463b-bba2-572429fda0c0"
      },
      "source": [
        "bins=np.arange(1,101)\n",
        "print(len(bins))"
      ],
      "execution_count": 43,
      "outputs": [
        {
          "output_type": "stream",
          "text": [
            "100\n"
          ],
          "name": "stdout"
        }
      ]
    },
    {
      "cell_type": "code",
      "metadata": {
        "id": "UpLzK1H9KKpV",
        "colab": {
          "base_uri": "https://localhost:8080/"
        },
        "outputId": "60a326dc-4aff-42df-f182-4cdaf469652b"
      },
      "source": [
        "print(len(n[0]))"
      ],
      "execution_count": 44,
      "outputs": [
        {
          "output_type": "stream",
          "text": [
            "100\n"
          ],
          "name": "stdout"
        }
      ]
    },
    {
      "cell_type": "code",
      "metadata": {
        "id": "OuFAY_pSyuXn"
      },
      "source": [
        "logA = np.log10(n[0])\n",
        "print(logA)\n"
      ],
      "execution_count": null,
      "outputs": []
    },
    {
      "cell_type": "code",
      "metadata": {
        "id": "65ZjGolVzH-M"
      },
      "source": [
        "logB=np.log10(bins)\n",
        "print(logB)"
      ],
      "execution_count": null,
      "outputs": []
    },
    {
      "cell_type": "code",
      "metadata": {
        "id": "rtAqHDAYLUmU",
        "colab": {
          "base_uri": "https://localhost:8080/"
        },
        "outputId": "7e412155-adbc-4590-f2e9-05a9f9cb4c46"
      },
      "source": [
        "#Curva ajustada\n",
        "m,b_0 = np.polyfit(bins,n[0],deg = 1)\n",
        "print(\"m:{}\\t b:{}\".format(m,b_0))"
      ],
      "execution_count": 83,
      "outputs": [
        {
          "output_type": "stream",
          "text": [
            "m:-0.055487548754875514\t b:12.132121212121211\n"
          ],
          "name": "stdout"
        }
      ]
    },
    {
      "cell_type": "code",
      "metadata": {
        "id": "_zkPI1RFLbhc",
        "colab": {
          "base_uri": "https://localhost:8080/"
        },
        "outputId": "54c76b7d-9428-4a24-fed5-6ce3da572c4a"
      },
      "source": [
        "y_r =(np.log10(bins)*m) + (b_0)\n",
        "\n",
        "print(\"m:{}\\t b:{}\".format(m,b_0))"
      ],
      "execution_count": 96,
      "outputs": [
        {
          "output_type": "stream",
          "text": [
            "m:-0.055487548754875514\t b:12.132121212121211\n"
          ],
          "name": "stdout"
        }
      ]
    },
    {
      "cell_type": "code",
      "metadata": {
        "id": "gCZh8Gs8I1fI",
        "colab": {
          "base_uri": "https://localhost:8080/",
          "height": 266
        },
        "outputId": "ee8dc1c6-e8be-4dd1-d00a-fde8df0a4352"
      },
      "source": [
        "plt.loglog(bins,n[0],'ro')\n",
        "plt.plot((bins),np.log((y_r)),label=\"recta ajustada\\npendiente: {}\".format(m))\n",
        "\n",
        "#plt.rc('grid', linestyle=\"-\", color='gray')\n",
        "#plt.grid(True)\n",
        "_=plt.show()"
      ],
      "execution_count": 98,
      "outputs": [
        {
          "output_type": "display_data",
          "data": {
            "image/png": "[encoded data removed]",
            "text/plain": [
              "<Figure size 432x288 with 1 Axes>"
            ]
          },
          "metadata": {
            "tags": [],
            "needs_background": "light"
          }
        }
      ]
    },
    {
      "cell_type": "code",
      "metadata": {
        "id": "N8hPfIQ0Rc3I",
        "colab": {
          "base_uri": "https://localhost:8080/"
        },
        "outputId": "352c53f1-da77-4198-daf3-3a72659fe3b3"
      },
      "source": [
        "rango=np.arange(1,6,0.25)\n",
        "print(rango)"
      ],
      "execution_count": 34,
      "outputs": [
        {
          "output_type": "stream",
          "text": [
            "[1.   1.25 1.5  1.75 2.   2.25 2.5  2.75 3.   3.25 3.5  3.75 4.   4.25\n",
            " 4.5  4.75 5.   5.25 5.5  5.75]\n"
          ],
          "name": "stdout"
        }
      ]
    },
    {
      "cell_type": "code",
      "metadata": {
        "id": "ldhks-nrOcKD",
        "colab": {
          "base_uri": "https://localhost:8080/",
          "height": 308
        },
        "outputId": "ec8bfdf0-7280-4424-ee3b-ea881d7e9d52"
      },
      "source": [
        "\n",
        "fig = plt.figure(figsize=(10,5))\n",
        "fig, ax = plt.subplots()\n",
        "\n",
        "plt.style.use('bmh')\n",
        "\n",
        "n=plt.hist(data['MW'], bins=rango,facecolor='y', edgecolor='magenta')\n",
        "plt.xticks(rango,fontsize=6)\n",
        "ax.set_xlabel('Tiempo transcurrido desde el evento principal (días)')\n",
        "\n",
        "ax.set_ylabel('Número de sismos por  (N)')\n",
        "ax.set_title(r'Histograma de ocurrencia')\n",
        "\n",
        "_=plt.show()"
      ],
      "execution_count": 40,
      "outputs": [
        {
          "output_type": "display_data",
          "data": {
            "text/plain": [
              "<Figure size 720x360 with 0 Axes>"
            ]
          },
          "metadata": {
            "tags": []
          }
        },
        {
          "output_type": "display_data",
          "data": {
            "image/png": "[encoded data removed]",
            "text/plain": [
              "<Figure size 432x288 with 1 Axes>"
            ]
          },
          "metadata": {
            "tags": [],
            "needs_background": "light"
          }
        }
      ]
    }
  ]
}