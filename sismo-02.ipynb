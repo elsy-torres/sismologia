{
  "nbformat": 4,
  "nbformat_minor": 0,
  "metadata": {
    "colab": {
      "name": "Untitled6.ipynb",
      "provenance": [],
      "toc_visible": true,
      "authorship_tag": "ABX9TyMZwkXHustiH2868UNp5DzC",
      "include_colab_link": true
    },
    "kernelspec": {
      "name": "python3",
      "display_name": "Python 3"
    }
  },
  "cells": [
    {
      "cell_type": "markdown",
      "metadata": {
        "id": "view-in-github",
        "colab_type": "text"
      },
      "source": [
        "<a href=\"https://colab.research.google.com/github/elsy-torres/sismologia/blob/main/sismo-02.ipynb\" target=\"_parent\"><img src=\"https://colab.research.google.com/assets/colab-badge.svg\" alt=\"Open In Colab\"/></a>"
      ]
    },
    {
      "cell_type": "code",
      "metadata": {
        "id": "H54ocbfVDAgA"
      },
      "source": [
        "import matplotlib.pyplot as plt\n",
        "import pandas as pd\n",
        "import numpy as np\n",
        "import matplotlib.patches as patches\n",
        "import matplotlib.path as path\n",
        "import matplotlib as mpl"
      ],
      "execution_count": 1,
      "outputs": []
    },
    {
      "cell_type": "code",
      "metadata": {
        "colab": {
          "base_uri": "https://localhost:8080/"
        },
        "id": "47ek-7CfDG_w",
        "outputId": "3cfeca74-967e-4976-b900-eb8fe51dfeb9"
      },
      "source": [
        "data=pd.read_csv('data.csv',names=['date','lat','lon','depth','Ml','MC','MW','N'],skiprows=2,sep=',',engine='python')\n",
        "print(data)"
      ],
      "execution_count": 5,
      "outputs": [
        {
          "output_type": "stream",
          "text": [
            "           date     lat      lon  depth   Ml   MC   MW    N\n",
            "0    04/04/2010  32.155 -115.256   10.0  5.5  0.0  5.5    0\n",
            "1    04/04/2010  32.260 -115.349    6.0  0.0  2.2  2.2    0\n",
            "2    04/04/2010  32.210 -115.424    7.0  0.0  2.2  2.2    0\n",
            "3    04/04/2010  32.165 -115.283    8.0  0.0  1.9  1.9    0\n",
            "4    04/04/2010  32.269 -115.327    6.0  4.7  0.0  4.7    0\n",
            "..          ...     ...      ...    ...  ...  ...  ...  ...\n",
            "928  13/07/2010  32.265 -115.333    5.0  2.2  2.0  2.2  100\n",
            "929  13/07/2010  32.176 -115.238    8.0  2.6  2.4  2.6  100\n",
            "930  13/07/2010  32.333 -115.342    6.0  2.7  2.5  2.7  100\n",
            "931  13/07/2010  32.124 -115.203    8.0  2.5  2.3  2.5  100\n",
            "932  13/07/2010  32.390 -115.496    5.0  2.2  2.0  2.2  100\n",
            "\n",
            "[933 rows x 8 columns]\n"
          ],
          "name": "stdout"
        }
      ]
    },
    {
      "cell_type": "code",
      "metadata": {
        "colab": {
          "base_uri": "https://localhost:8080/"
        },
        "id": "UtzdoKthEWg9",
        "outputId": "85fcc634-ed5a-4be2-fc8a-e5c9dbca0daf"
      },
      "source": [
        "d=len(data)\n",
        "print(d)"
      ],
      "execution_count": 7,
      "outputs": [
        {
          "output_type": "stream",
          "text": [
            "933\n"
          ],
          "name": "stdout"
        }
      ]
    },
    {
      "cell_type": "code",
      "metadata": {
        "colab": {
          "base_uri": "https://localhost:8080/",
          "height": 296
        },
        "id": "hejYwWFUEpAa",
        "outputId": "cb5d717c-6834-4fe1-cff3-cc93c11cc558"
      },
      "source": [
        "fig, ax = plt.subplots()\n",
        "\n",
        "\n",
        "plt.style.use('bmh')\n",
        "n=plt.hist(data['N'],100,facecolor='y', edgecolor='magenta')\n",
        "\n",
        "ax.set_xlabel('Tiempo transcurrido desde el evento principal (días)')\n",
        "ax.set_ylabel('Número de sismos por  (N)')\n",
        "ax.set_title(r'Histograma de ocurrencia')\n",
        "\n",
        "_=plt.show()"
      ],
      "execution_count": 22,
      "outputs": [
        {
          "output_type": "display_data",
          "data": {
            "image/png": "[encoded data removed]",
            "text/plain": [
              "<Figure size 432x288 with 1 Axes>"
            ]
          },
          "metadata": {
            "tags": [],
            "needs_background": "light"
          }
        }
      ]
    },
    {
      "cell_type": "code",
      "metadata": {
        "id": "zRfHN4f_In44",
        "outputId": "5e90a1d5-a39c-4126-a269-22e326d96fb4",
        "colab": {
          "base_uri": "https://localhost:8080/"
        }
      },
      "source": [
        "bins=np.arange(1,101)\n",
        "print(len(bins))"
      ],
      "execution_count": 23,
      "outputs": [
        {
          "output_type": "stream",
          "text": [
            "100\n"
          ],
          "name": "stdout"
        }
      ]
    },
    {
      "cell_type": "code",
      "metadata": {
        "id": "UpLzK1H9KKpV",
        "outputId": "6c7e080a-a8ac-4aae-a844-c86057441ae2",
        "colab": {
          "base_uri": "https://localhost:8080/"
        }
      },
      "source": [
        "print(len(n[0]))"
      ],
      "execution_count": 26,
      "outputs": [
        {
          "output_type": "stream",
          "text": [
            "100\n"
          ],
          "name": "stdout"
        }
      ]
    },
    {
      "cell_type": "code",
      "metadata": {
        "id": "rtAqHDAYLUmU",
        "outputId": "9a2856a3-dd40-46cd-d4a5-30932a4b746d",
        "colab": {
          "base_uri": "https://localhost:8080/"
        }
      },
      "source": [
        "#Curva ajustada\n",
        "m,b_0 = np.polyfit(bins,n[0],deg = 1)\n",
        "print(\"m:{}\\t b:{}\".format(m,b_0))"
      ],
      "execution_count": 31,
      "outputs": [
        {
          "output_type": "stream",
          "text": [
            "m:-0.055487548754875514\t b:12.132121212121211\n"
          ],
          "name": "stdout"
        }
      ]
    },
    {
      "cell_type": "code",
      "metadata": {
        "id": "_zkPI1RFLbhc",
        "outputId": "1ebb4156-ce06-4d0c-baac-eef1a60c4628",
        "colab": {
          "base_uri": "https://localhost:8080/"
        }
      },
      "source": [
        "y_r = m*bins +b_0 #recta ajustada\n",
        "\n",
        "print(\"m:{}\\t b:{}\".format(m,b_0))"
      ],
      "execution_count": 32,
      "outputs": [
        {
          "output_type": "stream",
          "text": [
            "m:-0.055487548754875514\t b:12.132121212121211\n"
          ],
          "name": "stdout"
        }
      ]
    },
    {
      "cell_type": "code",
      "metadata": {
        "id": "gCZh8Gs8I1fI",
        "outputId": "ada81214-9b76-434c-d5ab-0c5033f72d24",
        "colab": {
          "base_uri": "https://localhost:8080/",
          "height": 262
        }
      },
      "source": [
        "plt.semilogy(bins,n[0],'ro')\n",
        "plt.plot(bins,y_r,label=\"recta ajustada\\npendiente: {}\".format(m))\n",
        "\n",
        "plt.rc('grid', linestyle=\"-\", color='gray')\n",
        "plt.grid(True)\n",
        "_=plt.show()"
      ],
      "execution_count": 36,
      "outputs": [
        {
          "output_type": "display_data",
          "data": {
            "image/png": "[encoded data removed]",
            "text/plain": [
              "<Figure size 432x288 with 1 Axes>"
            ]
          },
          "metadata": {
            "tags": [],
            "needs_background": "light"
          }
        }
      ]
    },
    {
      "cell_type": "code",
      "metadata": {
        "id": "N8hPfIQ0Rc3I",
        "outputId": "73800f76-c449-46c2-ecf1-00a1af21f377",
        "colab": {
          "base_uri": "https://localhost:8080/"
        }
      },
      "source": [
        "rango=np.arange(1,6,0.25)\n",
        "print(rango)"
      ],
      "execution_count": 57,
      "outputs": [
        {
          "output_type": "stream",
          "text": [
            "[1.   1.25 1.5  1.75 2.   2.25 2.5  2.75 3.   3.25 3.5  3.75 4.   4.25\n",
            " 4.5  4.75 5.   5.25 5.5  5.75]\n"
          ],
          "name": "stdout"
        }
      ]
    },
    {
      "cell_type": "code",
      "metadata": {
        "id": "ldhks-nrOcKD",
        "outputId": "6b911144-f8f6-4ea2-b60b-9ed280a6f0fb",
        "colab": {
          "base_uri": "https://localhost:8080/",
          "height": 308
        }
      },
      "source": [
        "\n",
        "fig = plt.figure(figsize=(10,5))\n",
        "fig, ax = plt.subplots()\n",
        "\n",
        "plt.style.use('bmh')\n",
        "\n",
        "n=plt.hist(data['MW'], bins=rango,facecolor='y', edgecolor='magenta')\n",
        "plt.xticks(rango,fontsize=6)\n",
        "ax.set_xlabel('Tiempo transcurrido desde el evento principal (días)')\n",
        "\n",
        "ax.set_ylabel('Número de sismos por  (N)')\n",
        "ax.set_title(r'Histograma de ocurrencia')\n",
        "\n",
        "_=plt.show()"
      ],
      "execution_count": 66,
      "outputs": [
        {
          "output_type": "display_data",
          "data": {
            "text/plain": [
              "<Figure size 720x360 with 0 Axes>"
            ]
          },
          "metadata": {
            "tags": []
          }
        },
        {
          "output_type": "display_data",
          "data": {
            "image/png": "[encoded data removed]",
            "text/plain": [
              "<Figure size 432x288 with 1 Axes>"
            ]
          },
          "metadata": {
            "tags": [],
            "needs_background": "light"
          }
        }
      ]
    }
  ]
}