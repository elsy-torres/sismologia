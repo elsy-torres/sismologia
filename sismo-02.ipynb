{
  "nbformat": 4,
  "nbformat_minor": 0,
  "metadata": {
    "colab": {
      "name": "Untitled6.ipynb",
      "provenance": [],
      "authorship_tag": "ABX9TyOGdKzLGd3WNpq+HZXGRQio",
      "include_colab_link": true
    },
    "kernelspec": {
      "name": "python3",
      "display_name": "Python 3"
    }
  },
  "cells": [
    {
      "cell_type": "markdown",
      "metadata": {
        "id": "view-in-github",
        "colab_type": "text"
      },
      "source": [
        "<a href=\"https://colab.research.google.com/github/elsy-torres/sismologia/blob/main/sismo-02.ipynb\" target=\"_parent\"><img src=\"https://colab.research.google.com/assets/colab-badge.svg\" alt=\"Open In Colab\"/></a>"
      ]
    },
    {
      "cell_type": "markdown",
      "metadata": {
        "id": "ncTcQUthdCRz"
      },
      "source": [
        "# Catalogo de IRIS"
      ]
    },
    {
      "cell_type": "code",
      "metadata": {
        "id": "H54ocbfVDAgA"
      },
      "source": [
        "import matplotlib.pyplot as plt\n",
        "import pandas as pd\n",
        "import numpy as np\n",
        "import matplotlib.patches as patches\n",
        "import matplotlib.path as path\n",
        "import matplotlib as mpl\n"
      ],
      "execution_count": 359,
      "outputs": []
    },
    {
      "cell_type": "code",
      "metadata": {
        "colab": {
          "base_uri": "https://localhost:8080/"
        },
        "id": "47ek-7CfDG_w",
        "outputId": "cd7ecfdc-a30c-40ae-ccee-d2ebb552fcc9"
      },
      "source": [
        "data=pd.read_csv('data-02_IRIS.csv',names=['depth','Mag','date','N','X','NE'],skiprows=18,sep=',',engine='python')\n",
        "print(data)"
      ],
      "execution_count": 360,
      "outputs": [
        {
          "output_type": "stream",
          "text": [
            "     depth   Mag        date   N     X  NE\n",
            "0     10.0  3.35  04/04/2010   0  17.0   1\n",
            "1     10.0  3.36  04/04/2010   0  18.0   5\n",
            "2     10.0  3.13  04/04/2010   0  19.0   5\n",
            "3     10.0  3.26  04/04/2010   0  20.0   2\n",
            "4     10.0  3.08  05/04/2010   1  21.0   6\n",
            "..     ...   ...         ...  ..   ...  ..\n",
            "556    9.9  3.35  06/07/2010  93   NaN  21\n",
            "557   13.4  3.02  07/07/2010  94   NaN  21\n",
            "558    9.3  3.28  08/07/2010  95   NaN  21\n",
            "559    5.5  3.02  09/07/2010  96   NaN  21\n",
            "560    6.3  3.03  12/07/2010  99   NaN  21\n",
            "\n",
            "[561 rows x 6 columns]\n"
          ],
          "name": "stdout"
        }
      ]
    },
    {
      "cell_type": "code",
      "metadata": {
        "id": "IuqGnhLqWQZ_",
        "colab": {
          "base_uri": "https://localhost:8080/"
        },
        "outputId": "8b2ebcb7-c9e6-4c2e-8f48-7f97922ca0f5"
      },
      "source": [
        "data1=pd.read_csv('prueba.csv',names=['X','NE'],skiprows=1,sep=',',engine='python')\n",
        "print(data1)"
      ],
      "execution_count": 361,
      "outputs": [
        {
          "output_type": "stream",
          "text": [
            "     X     NE\n",
            "0    0    4.0\n",
            "1    1  154.0\n",
            "2    2   81.0\n",
            "3    3   38.0\n",
            "4    4   26.0\n",
            "..  ..    ...\n",
            "95  95    1.0\n",
            "96  96    1.0\n",
            "97  97    0.0\n",
            "98  98    0.0\n",
            "99  99    1.0\n",
            "\n",
            "[100 rows x 2 columns]\n"
          ],
          "name": "stdout"
        }
      ]
    },
    {
      "cell_type": "code",
      "metadata": {
        "colab": {
          "base_uri": "https://localhost:8080/",
          "height": 350
        },
        "id": "hejYwWFUEpAa",
        "outputId": "a7ed97a8-994a-4172-c45c-a805e8b3c917"
      },
      "source": [
        "fig = plt.figure(figsize=(10,5))\n",
        "plt.style.use('bmh')\n",
        "n=plt.hist(data['N'],100,facecolor='b', edgecolor='magenta')\n",
        "plt.ylabel('Número de sismos')\n",
        "plt.xlabel('Tiempo transcurrido desde el evento principal (días)')\n",
        "plt.title('Histograma de ocurrencia')\n",
        "\n",
        "\n",
        "_=plt.show()"
      ],
      "execution_count": 362,
      "outputs": [
        {
          "output_type": "display_data",
          "data": {
            "image/png": "[encoded data removed]",
            "text/plain": [
              "<Figure size 720x360 with 1 Axes>"
            ]
          },
          "metadata": {
            "tags": [],
            "needs_background": "light"
          }
        }
      ]
    },
    {
      "cell_type": "code",
      "metadata": {
        "colab": {
          "base_uri": "https://localhost:8080/"
        },
        "id": "sPICFKHGMb42",
        "outputId": "72db3687-657f-40e8-b7c6-2c604744787a"
      },
      "source": [
        "print(n[0])"
      ],
      "execution_count": 402,
      "outputs": [
        {
          "output_type": "stream",
          "text": [
            "[ 6. 16. 24. 10.  6.  7.  8. 17.  4.  7.  4. 13. 11.  6.  7.  8.  4.  7.\n",
            "  4. 10.  7.  8.  7. 11.  5.  7.  6.  6.  3.  5.  5. 12.  5.  4.  5.  7.\n",
            "  8.  8.  7.  3.  7.  3.  4.  4.  2.  2.  2.  1.  0.  3.  1.  2.  5.  8.\n",
            "  4.  3.  1.  3.  0.  4.  1.  0.  0.  3.  3.  0.  3.  3.  4.  0.  0.  3.\n",
            "  1.  2.  3.  1.  2.  3.  1.  1.  1.  2.  3.  0.  0.  0.  2.  1.  3.  3.\n",
            "  3.  3.  0.  3.  1.  1.  1.  0.  1.  1.]\n"
          ],
          "name": "stdout"
        }
      ]
    },
    {
      "cell_type": "code",
      "metadata": {
        "id": "zRfHN4f_In44",
        "colab": {
          "base_uri": "https://localhost:8080/"
        },
        "outputId": "36a3194e-991b-4e00-891d-0accce5eb413"
      },
      "source": [
        "bins=np.arange(1,101)\n",
        "print(len(bins))"
      ],
      "execution_count": 364,
      "outputs": [
        {
          "output_type": "stream",
          "text": [
            "100\n"
          ],
          "name": "stdout"
        }
      ]
    },
    {
      "cell_type": "code",
      "metadata": {
        "colab": {
          "base_uri": "https://localhost:8080/"
        },
        "id": "aAxJhIGH4Qy2",
        "outputId": "745e2b20-632a-43e8-95b3-3af16f20b113"
      },
      "source": [
        "def line(x, m, b):\n",
        "    return m*x+b\n",
        "popt, pcov = curve_fit(line,bins[0:20], np.log10(data1['NE'][0:20]))  \n",
        "print(\"m:{}\\t b:{}\".format(m,b_0))             "
      ],
      "execution_count": 372,
      "outputs": [
        {
          "output_type": "stream",
          "text": [
            "m:-4.357894736842108\t b:69.67368421052635\n"
          ],
          "name": "stdout"
        }
      ]
    },
    {
      "cell_type": "markdown",
      "metadata": {
        "id": "5zcyTNjk9Kst"
      },
      "source": [
        "## El número de Omori es -4.357"
      ]
    },
    {
      "cell_type": "code",
      "metadata": {
        "id": "gCZh8Gs8I1fI",
        "colab": {
          "base_uri": "https://localhost:8080/",
          "height": 350
        },
        "outputId": "af6598c6-31df-4195-8ae9-a793d7d12634"
      },
      "source": [
        "fig = plt.figure(figsize=(10,5))\n",
        "plt.semilogy(bins,(data1['NE']),'bo')\n",
        "plt.semilogy(bins[1:20], 10**line(bins[1:20], popt[0], popt[1]), 'g-')\n",
        "\n",
        "thicks = np.arange(1,100,5)\n",
        "\n",
        "\n",
        "plt.ylabel('Número de sismos')\n",
        "plt.xlabel('Tiempo transcurrido desde el evento principal (días)')\n",
        "plt.title('Réplicas')\n",
        "plt.xticks(thicks, fontsize=8)\n",
        "plt.rc('grid', linestyle=\"-\", color='gray')\n",
        "plt.grid(True)\n",
        "_=plt.show()"
      ],
      "execution_count": 383,
      "outputs": [
        {
          "output_type": "display_data",
          "data": {
            "image/png": "[encoded data removed]",
            "text/plain": [
              "<Figure size 720x360 with 1 Axes>"
            ]
          },
          "metadata": {
            "tags": [],
            "needs_background": "light"
          }
        }
      ]
    },
    {
      "cell_type": "markdown",
      "metadata": {
        "id": "sj3uCOy-dMl8"
      },
      "source": [
        "#Catalogo de RESNOM"
      ]
    },
    {
      "cell_type": "code",
      "metadata": {
        "colab": {
          "base_uri": "https://localhost:8080/"
        },
        "id": "hkOLaCKpdMHs",
        "outputId": "fadb4717-04ab-4cd6-ffb5-60bec29fd2a7"
      },
      "source": [
        "data_0=pd.read_csv('data-02.csv',names=['date','Ml','MC','MW','N'],skiprows=6,sep=',',engine='python')\n",
        "print(data_0)"
      ],
      "execution_count": 400,
      "outputs": [
        {
          "output_type": "stream",
          "text": [
            "           date   Ml   MC   MW   N\n",
            "0    04/04/2010  5.5  0.0  5.5   0\n",
            "1    04/04/2010  4.7  0.0  4.7   0\n",
            "2    04/04/2010  5.5  0.0  5.5   0\n",
            "3    04/04/2010  4.3  0.0  4.3   0\n",
            "4    04/04/2010  5.7  0.0  5.7   0\n",
            "..          ...  ...  ...  ...  ..\n",
            "425  07/07/2010  3.1  2.9  3.1  94\n",
            "426  08/07/2010  3.3  3.0  3.3  95\n",
            "427  09/07/2010  3.0  2.8  3.0  96\n",
            "428  11/07/2010  3.2  2.9  3.2  98\n",
            "429  12/07/2010  3.2  3.0  3.2  99\n",
            "\n",
            "[430 rows x 5 columns]\n"
          ],
          "name": "stdout"
        }
      ]
    },
    {
      "cell_type": "code",
      "metadata": {
        "id": "PjSRQRqKuGRr"
      },
      "source": [
        "data_01=pd.read_csv('prueba-04.csv',names=['X','NE'],skiprows=1,sep=',',engine='python')\n",
        "print(data_01)"
      ],
      "execution_count": null,
      "outputs": []
    },
    {
      "cell_type": "code",
      "metadata": {
        "colab": {
          "base_uri": "https://localhost:8080/",
          "height": 367
        },
        "id": "vsYH83u8w2E-",
        "outputId": "097649db-444f-4b93-97fb-7af710fae04f"
      },
      "source": [
        "fig = plt.figure(figsize=(10,5))\n",
        "plt.style.use('bmh')\n",
        "n_0=plt.hist(data_0['N'],100,facecolor='b', edgecolor='magenta')\n",
        "plt.ylabel('Número de sismos')\n",
        "plt.xlabel('Tiempo transcurrido desde el evento principal (días)')\n",
        "plt.title('Histograma de ocurrencia')\n"
      ],
      "execution_count": 404,
      "outputs": [
        {
          "output_type": "execute_result",
          "data": {
            "text/plain": [
              "Text(0.5, 1.0, 'Histograma de ocurrencia')"
            ]
          },
          "metadata": {
            "tags": []
          },
          "execution_count": 404
        },
        {
          "output_type": "display_data",
          "data": {
            "image/png": "[encoded data removed]",
            "text/plain": [
              "<Figure size 720x360 with 1 Axes>"
            ]
          },
          "metadata": {
            "tags": [],
            "needs_background": "light"
          }
        }
      ]
    },
    {
      "cell_type": "code",
      "metadata": {
        "id": "UuOfejB4xxUM"
      },
      "source": [
        "fig = plt.figure(figsize=(10,5))\n",
        "plt.semilogy(bins,(data_01['NE']),'bo')\n",
        "#plt.semilogy(bins[1:20], 10**line(bins[1:20], popt[0], popt[1]), 'g-')\n",
        "\n",
        "\n",
        "\n",
        "\n",
        "_=plt.show()"
      ],
      "execution_count": null,
      "outputs": []
    },
    {
      "cell_type": "code",
      "metadata": {
        "id": "N8hPfIQ0Rc3I"
      },
      "source": [
        "#rango=np.arange(1,6,0.25)\n",
        "#print(rango)"
      ],
      "execution_count": 367,
      "outputs": []
    },
    {
      "cell_type": "code",
      "metadata": {
        "id": "ldhks-nrOcKD"
      },
      "source": [
        "\n",
        "#fig = plt.figure(figsize=(10,5))\n",
        "#fig, ax = plt.subplots()\n",
        "\n",
        "#plt.style.use('bmh')\n",
        "\n",
        "#n=plt.hist(data['MW'], bins=rango,facecolor='y', edgecolor='magenta')\n",
        "#plt.xticks(rango,fontsize=6)\n",
        "#ax.set_xlabel('Tiempo transcurrido desde el evento principal (días)')\n",
        "\n",
        "#ax.set_ylabel('Número de sismos por  (N)')\n",
        "#ax.set_title(r'Histograma de ocurrencia')\n",
        "\n",
        "#_=plt.show()"
      ],
      "execution_count": 368,
      "outputs": []
    }
  ]
}