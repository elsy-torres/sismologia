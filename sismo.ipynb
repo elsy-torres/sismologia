{
  "nbformat": 4,
  "nbformat_minor": 0,
  "metadata": {
    "colab": {
      "name": "sismo.ipynb",
      "provenance": [],
      "authorship_tag": "ABX9TyOCsx75qihihCCt6IPbobnO",
      "include_colab_link": true
    },
    "kernelspec": {
      "name": "python3",
      "display_name": "Python 3"
    }
  },
  "cells": [
    {
      "cell_type": "markdown",
      "metadata": {
        "id": "view-in-github",
        "colab_type": "text"
      },
      "source": [
        "<a href=\"https://colab.research.google.com/github/elsy-torres/sismologia/blob/main/sismo.ipynb\" target=\"_parent\"><img src=\"https://colab.research.google.com/assets/colab-badge.svg\" alt=\"Open In Colab\"/></a>"
      ]
    },
    {
      "cell_type": "code",
      "metadata": {
        "id": "80Wts1gMKg6X"
      },
      "source": [
        "import matplotlib.pyplot as plt\n",
        "import pandas as pd\n",
        "import numpy as np\n",
        "import matplotlib.patches as patches\n",
        "import matplotlib.path as path\n",
        "import matplotlib as mpl"
      ],
      "execution_count": 263,
      "outputs": []
    },
    {
      "cell_type": "code",
      "metadata": {
        "colab": {
          "base_uri": "https://localhost:8080/"
        },
        "id": "V9dHvim7KpoL",
        "outputId": "86d7c1fd-7294-48ba-8064-9b01bf761824"
      },
      "source": [
        "data=pd.read_csv('original.csv',names=['date','lat','lon','depth','Ml','MC','MW'],skiprows=2,sep=',',engine='python')\n",
        "print(data)"
      ],
      "execution_count": 264,
      "outputs": [
        {
          "output_type": "stream",
          "text": [
            "           date     lat      lon  depth   Ml   MC   MW\n",
            "0    2010-04-04  32.155 -115.256   10.0  5.5  0.0  5.5\n",
            "1    2010-04-04  32.260 -115.349    6.0  0.0  2.2  2.2\n",
            "2    2010-04-04  32.210 -115.424    7.0  0.0  2.2  2.2\n",
            "3    2010-04-04  32.165 -115.283    8.0  0.0  1.9  1.9\n",
            "4    2010-04-04  32.269 -115.327    6.0  4.7  0.0  4.7\n",
            "..          ...     ...      ...    ...  ...  ...  ...\n",
            "928  2010-07-13  32.265 -115.333    5.0  2.2  2.0  2.2\n",
            "929  2010-07-13  32.176 -115.238    8.0  2.6  2.4  2.6\n",
            "930  2010-07-13  32.333 -115.342    6.0  2.7  2.5  2.7\n",
            "931  2010-07-13  32.124 -115.203    8.0  2.5  2.3  2.5\n",
            "932  2010-07-13  32.390 -115.496    5.0  2.2  2.0  2.2\n",
            "\n",
            "[933 rows x 7 columns]\n"
          ],
          "name": "stdout"
        }
      ]
    },
    {
      "cell_type": "code",
      "metadata": {
        "colab": {
          "base_uri": "https://localhost:8080/"
        },
        "id": "DDEm_mAFn80N",
        "outputId": "515885b7-4c3b-4672-f5c5-9acc33c91a7e"
      },
      "source": [
        "d=len(data)\n",
        "print(d)"
      ],
      "execution_count": 265,
      "outputs": [
        {
          "output_type": "stream",
          "text": [
            "933\n"
          ],
          "name": "stdout"
        }
      ]
    },
    {
      "cell_type": "code",
      "metadata": {
        "colab": {
          "base_uri": "https://localhost:8080/",
          "height": 334
        },
        "id": "w4DGqPDLL1G_",
        "outputId": "ec68a670-d76e-48ad-a0e6-89a6581a3337"
      },
      "source": [
        "fig = plt.figure(figsize=(10,5))\n",
        "x=data['date'].hist()\n",
        "plt.title('Réplicas')\n",
        "_=plt.show()"
      ],
      "execution_count": 266,
      "outputs": [
        {
          "output_type": "display_data",
          "data": {
            "image/png": "[encoded data removed]",
            "text/plain": [
              "<Figure size 720x360 with 1 Axes>"
            ]
          },
          "metadata": {
            "tags": [],
            "needs_background": "light"
          }
        }
      ]
    },
    {
      "cell_type": "code",
      "metadata": {
        "colab": {
          "base_uri": "https://localhost:8080/"
        },
        "id": "ml7lVXqVn68R",
        "outputId": "0c0591c9-a5da-4226-9046-c9ba044f1a45"
      },
      "source": [
        "bins=np.arange(1,101)\n",
        "print(len(bins))"
      ],
      "execution_count": 267,
      "outputs": [
        {
          "output_type": "stream",
          "text": [
            "100\n"
          ],
          "name": "stdout"
        }
      ]
    },
    {
      "cell_type": "code",
      "metadata": {
        "colab": {
          "base_uri": "https://localhost:8080/",
          "height": 298
        },
        "id": "Nu1IycI_Te7d",
        "outputId": "00e5ebfe-be06-48be-8bd0-efdb73ea475a"
      },
      "source": [
        "fig, ax = plt.subplots()\n",
        "#fig,ax = plt.subplots().figure(figsize=(10,5))\n",
        "\n",
        "plt.style.use('bmh')\n",
        "plt.hist(data['date'],100,facecolor='y', edgecolor='magenta')\n",
        "plt.yscale('log')\n",
        "\n",
        "ax.set_xlabel('Smarts')\n",
        "ax.set_ylabel('Probability density')\n",
        "ax.set_title(r'Histogram of IQ: $\\mu=100$, $\\sigma=15$')\n",
        "\n",
        "_=plt.show()"
      ],
      "execution_count": 268,
      "outputs": [
        {
          "output_type": "display_data",
          "data": {
            "image/png": "[encoded data removed]",
            "text/plain": [
              "<Figure size 432x288 with 1 Axes>"
            ]
          },
          "metadata": {
            "tags": [],
            "needs_background": "light"
          }
        }
      ]
    },
    {
      "cell_type": "code",
      "metadata": {
        "colab": {
          "base_uri": "https://localhost:8080/",
          "height": 262
        },
        "id": "wiGSJIcA05_L",
        "outputId": "9f0b9289-34f4-44f3-d684-ca0b42c32cbe"
      },
      "source": [
        "fig, ax = plt.subplots()\n",
        "#fig,ax = plt.subplots().figure(figsize=(10,5))\n",
        "\n",
        "plt.style.use('bmh')\n",
        "n=plt.hist(data['date'],100)\n"
      ],
      "execution_count": 269,
      "outputs": [
        {
          "output_type": "display_data",
          "data": {
            "image/png": "[encoded data removed]",
            "text/plain": [
              "<Figure size 432x288 with 1 Axes>"
            ]
          },
          "metadata": {
            "tags": [],
            "needs_background": "light"
          }
        }
      ]
    },
    {
      "cell_type": "code",
      "metadata": {
        "colab": {
          "base_uri": "https://localhost:8080/"
        },
        "id": "gXHbQwYM6wMx",
        "outputId": "8aae55c3-7bae-4f6b-9e69-46f7a70e45ca"
      },
      "source": [
        "print(len(n[0]))"
      ],
      "execution_count": 270,
      "outputs": [
        {
          "output_type": "stream",
          "text": [
            "100\n"
          ],
          "name": "stdout"
        }
      ]
    },
    {
      "cell_type": "code",
      "metadata": {
        "colab": {
          "base_uri": "https://localhost:8080/"
        },
        "id": "VnEyZHBs62K8",
        "outputId": "4a07dcef-f5f6-406d-99bc-f18c4353c626"
      },
      "source": [
        "print(len(bins))"
      ],
      "execution_count": 271,
      "outputs": [
        {
          "output_type": "stream",
          "text": [
            "100\n"
          ],
          "name": "stdout"
        }
      ]
    },
    {
      "cell_type": "code",
      "metadata": {
        "colab": {
          "base_uri": "https://localhost:8080/"
        },
        "id": "6ZcXAGVe6nZ4",
        "outputId": "abae19dd-c25f-413f-a1cf-7071011f6d6e"
      },
      "source": [
        "#valores de P\n",
        "m,b_0 = np.polyfit(bins,n[0],deg = 1)\n",
        "print(\"m:{}\\t b:{}\".format(m,b_0))"
      ],
      "execution_count": 272,
      "outputs": [
        {
          "output_type": "stream",
          "text": [
            "m:-0.05819981998199813\t b:12.269090909090904\n"
          ],
          "name": "stdout"
        }
      ]
    },
    {
      "cell_type": "code",
      "metadata": {
        "colab": {
          "base_uri": "https://localhost:8080/"
        },
        "id": "teeWUXoL7jud",
        "outputId": "f7809cfd-db58-4534-a53e-082d7c9cd45e"
      },
      "source": [
        "y_r = m*bins +b_0 #recta ajustada\n",
        "\n",
        "print(\"m:{}\\t b:{}\".format(m,b_0))"
      ],
      "execution_count": 273,
      "outputs": [
        {
          "output_type": "stream",
          "text": [
            "m:-0.05819981998199813\t b:12.269090909090904\n"
          ],
          "name": "stdout"
        }
      ]
    },
    {
      "cell_type": "code",
      "metadata": {
        "colab": {
          "base_uri": "https://localhost:8080/",
          "height": 333
        },
        "id": "scb-lJZQ3azb",
        "outputId": "d4f2d5e4-bf7e-40f1-911d-decd44170fe8"
      },
      "source": [
        "plt.semilogy(n[0],'o')\n",
        "#plt.semilogy(n[0],'y-')\n",
        "plt.plot(bins,y_r,label=\"recta ajustada\\npendiente: {}\".format(m))\n",
        "\n",
        "plt.ylim(0,50)\n",
        "\n",
        "plt.rc('grid', linestyle=\"-\", color='gray')\n",
        "plt.grid(True)\n",
        "_=plt.show()"
      ],
      "execution_count": 274,
      "outputs": [
        {
          "output_type": "stream",
          "text": [
            "/usr/local/lib/python3.6/dist-packages/ipykernel_launcher.py:5: UserWarning: Attempted to set non-positive bottom ylim on a log-scaled axis.\n",
            "Invalid limit will be ignored.\n",
            "  \"\"\"\n"
          ],
          "name": "stderr"
        },
        {
          "output_type": "display_data",
          "data": {
            "image/png": "[encoded data removed]",
            "text/plain": [
              "<Figure size 432x288 with 1 Axes>"
            ]
          },
          "metadata": {
            "tags": [],
            "needs_background": "light"
          }
        }
      ]
    },
    {
      "cell_type": "code",
      "metadata": {
        "id": "geNuD5oc12iy"
      },
      "source": [
        "#fig.suptitle('Scatter plot of weight versus hindfoot length', fontsize=15)"
      ],
      "execution_count": 275,
      "outputs": []
    }
  ]
}